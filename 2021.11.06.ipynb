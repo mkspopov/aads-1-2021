{
 "cells": [
  {
   "cell_type": "code",
   "execution_count": 1,
   "metadata": {},
   "outputs": [],
   "source": [
    "def find_pair(arr, c):\n",
    "    inds = dict()\n",
    "    for i, elem in enumerate(arr):\n",
    "        inds[elem] = i\n",
    "    for i, elem in enumerate(arr):\n",
    "        if c - elem in inds:\n",
    "            if i != inds[c - elem]:\n",
    "                return i, inds[c - elem]\n",
    "    return None"
   ]
  },
  {
   "cell_type": "code",
   "execution_count": 2,
   "metadata": {},
   "outputs": [],
   "source": [
    "def naive_solution(arr, c):\n",
    "    answers = set()\n",
    "    for i in range(len(arr)):\n",
    "        for j in range(i + 1, len(arr)):\n",
    "            if arr[i] + arr[j] == c:\n",
    "                answers.add((i, j))\n",
    "    return answers"
   ]
  },
  {
   "cell_type": "code",
   "execution_count": 3,
   "metadata": {},
   "outputs": [],
   "source": [
    "def unit_tests():\n",
    "    arr = [1, 4, 2]\n",
    "    c = 4\n",
    "    assert find_pair(arr, c) is None, \"elements found\"\n",
    "    arr = [1, 4, 2, 2]\n",
    "    c = 4\n",
    "    assert find_pair(arr, c) == (2, 3), \"elements not found\"\n",
    "    arr = [1, 4, 2]\n",
    "    c = 5\n",
    "    assert find_pair(arr, c) == (0, 1), \"elements found\"\n",
    "\n",
    "\n",
    "unit_tests()"
   ]
  },
  {
   "cell_type": "code",
   "execution_count": 4,
   "metadata": {},
   "outputs": [],
   "source": [
    "from random import randint, seed\n",
    "seed(10)\n",
    "\n",
    "def stress_tests(num_tests, left, right, length):\n",
    "    for _ in range(num_tests):\n",
    "        arr = [randint(left, right) for _ in range(randint(0, length))]\n",
    "        c = randint(left, right)\n",
    "        correct = naive_solution(arr, c)\n",
    "        if len(correct) == 0:\n",
    "            assert find_pair(arr, c) is None, f\"{arr} {c}\"\n",
    "        else:\n",
    "            assert find_pair(arr, c) in correct, f\"{arr} {c}\"\n",
    "\n",
    "\n",
    "stress_tests(1000, -100, 100, 100)"
   ]
  },
  {
   "cell_type": "code",
   "execution_count": null,
   "metadata": {},
   "outputs": [],
   "source": [
    "# class Node:\n",
    "#     self.parent\n",
    "#     self.left\n",
    "#     self.right\n",
    "#     self.value\n",
    "\n",
    "# class Heap:\n",
    "#     self.root = Node()\n",
    "    \n",
    "# heap = Heap(Node(0))\n",
    "# left = Node(1)\n",
    "# heap.root.left = left\n",
    "# left.parent = heap.root\n",
    "heapq"
   ]
  }
 ],
 "metadata": {
  "kernelspec": {
   "display_name": "Python 3",
   "language": "python",
   "name": "python3"
  },
  "language_info": {
   "codemirror_mode": {
    "name": "ipython",
    "version": 3
   },
   "file_extension": ".py",
   "mimetype": "text/x-python",
   "name": "python",
   "nbconvert_exporter": "python",
   "pygments_lexer": "ipython3",
   "version": "3.8.10"
  }
 },
 "nbformat": 4,
 "nbformat_minor": 4
}
